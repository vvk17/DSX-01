{
    "metadata": {
        "language_info": {
            "name": "python", 
            "mimetype": "text/x-python", 
            "nbconvert_exporter": "python", 
            "pygments_lexer": "ipython2", 
            "codemirror_mode": {
                "name": "ipython", 
                "version": 2
            }, 
            "file_extension": ".py", 
            "version": "2.7.11"
        }, 
        "kernelspec": {
            "display_name": "Python 2 with Spark 2.1", 
            "name": "python2-spark21", 
            "language": "python"
        }
    }, 
    "nbformat_minor": 1, 
    "cells": [
        {
            "outputs": [], 
            "metadata": {}, 
            "source": "\nfrom io import StringIO\nimport requests\nimport json\nimport pandas as pd\n\n# @hidden_cell\n# This function accesses a file in your Object Storage. The definition contains your credentials.\n# You might want to remove those credentials before you share your notebook.\ndef get_object_storage_file_with_credentials_48630a0b4cef4cf5b0b7f4feb6674e68(container, filename):\n    \"\"\"This functions returns a StringIO object containing\n    the file content from Bluemix Object Storage.\"\"\"\n\n    url1 = ''.join(['https://identity.open.softlayer.com', '/v3/auth/tokens'])\n    data = {'auth': {'identity': {'methods': ['password'],\n            'password': {'user': {'name': 'member_834b491397eea31cb7ee19aae70d390efa6b656b','domain': {'id': 'f5020f1b3c0244d2b4250df839dfd5db'},\n            'password': 'Zsbdys=yHA74~KPv'}}}}}\n    headers1 = {'Content-Type': 'application/json'}\n    resp1 = requests.post(url=url1, data=json.dumps(data), headers=headers1)\n    resp1_body = resp1.json()\n    for e1 in resp1_body['token']['catalog']:\n        if(e1['type']=='object-store'):\n            for e2 in e1['endpoints']:\n                        if(e2['interface']=='public'and e2['region']=='dallas'):\n                            url2 = ''.join([e2['url'],'/', container, '/', filename])\n    s_subject_token = resp1.headers['x-subject-token']\n    headers2 = {'X-Auth-Token': s_subject_token, 'accept': 'application/json'}\n    resp2 = requests.get(url=url2, headers=headers2)\n    return StringIO(resp2.text)\n\ndf_a = pd.read_csv(get_object_storage_file_with_credentials_48630a0b4cef4cf5b0b7f4feb6674e68('MyTestProject', 'abalone.csv'))\n#df_a.head()\n", 
            "cell_type": "code", 
            "execution_count": 47
        }, 
        {
            "outputs": [], 
            "metadata": {}, 
            "source": "df_a['Sex'] = df_a['Sex'].map(lambda x: 1 if x == 'M' else (-1 if x == 'F' else 0))\n#df_a.head()", 
            "cell_type": "code", 
            "execution_count": 48
        }, 
        {
            "outputs": [], 
            "metadata": {}, 
            "source": "X = df_a.drop(labels=['Rings'],axis=1)\n#X.head()", 
            "cell_type": "code", 
            "execution_count": 49
        }, 
        {
            "outputs": [], 
            "metadata": {}, 
            "source": "y = pd.DataFrame(df_a.as_matrix(columns=['Rings']),columns=['Rings'])\n#y.head()", 
            "cell_type": "code", 
            "execution_count": 50
        }, 
        {
            "outputs": [], 
            "metadata": {}, 
            "source": "#KFOLD generates 5 splits\nfrom sklearn.model_selection import KFold\nkf = KFold(n_splits=5,random_state=1,shuffle=True)\n\nXm = X.as_matrix()\nym = np.ravel(y.as_matrix())\n\nfor train_index, test_index in kf.split(Xm):\n#    print(\"TRAIN:\", train_index, \"TEST:\", test_index)\n    X_train, X_test = Xm[train_index], Xm[test_index]\n    y_train, y_test = ym[train_index], ym[test_index]", 
            "cell_type": "code", 
            "execution_count": 51
        }, 
        {
            "outputs": [
                {
                    "name": "stdout", 
                    "output_type": "stream", 
                    "text": "estimators = 1 : r2_score = -0.047971\nestimators = 2 : r2_score = 0.332398\nestimators = 3 : r2_score = 0.402596\nestimators = 4 : r2_score = 0.444365\nestimators = 5 : r2_score = 0.469810\nestimators = 6 : r2_score = 0.476873\nestimators = 7 : r2_score = 0.488225\nestimators = 8 : r2_score = 0.488831\nestimators = 9 : r2_score = 0.496239\nestimators = 10 : r2_score = 0.505515\nestimators = 11 : r2_score = 0.495198\nestimators = 12 : r2_score = 0.498310\nestimators = 13 : r2_score = 0.504020\nestimators = 14 : r2_score = 0.510299\nestimators = 15 : r2_score = 0.507340\nestimators = 16 : r2_score = 0.509552\nestimators = 17 : r2_score = 0.511661\nestimators = 18 : r2_score = 0.514027\nestimators = 19 : r2_score = 0.517506\nestimators = 20 : r2_score = 0.515056\nestimators = 21 : r2_score = 0.520335\nestimators = 22 : r2_score = 0.516832\nestimators = 23 : r2_score = 0.518233\nestimators = 24 : r2_score = 0.521726\nestimators = 25 : r2_score = 0.520390\nestimators = 26 : r2_score = 0.521588\nestimators = 27 : r2_score = 0.526128\nestimators = 28 : r2_score = 0.527844\nestimators = 29 : r2_score = 0.527521\nestimators = 30 : r2_score = 0.527582\nestimators = 31 : r2_score = 0.530221\nestimators = 32 : r2_score = 0.532111\nestimators = 33 : r2_score = 0.531869\nestimators = 34 : r2_score = 0.532697\nestimators = 35 : r2_score = 0.532374\nestimators = 36 : r2_score = 0.532711\nestimators = 37 : r2_score = 0.530659\nestimators = 38 : r2_score = 0.532590\nestimators = 39 : r2_score = 0.532059\nestimators = 40 : r2_score = 0.532628\nestimators = 41 : r2_score = 0.532099\nestimators = 42 : r2_score = 0.532491\nestimators = 43 : r2_score = 0.531783\nestimators = 44 : r2_score = 0.531205\nestimators = 45 : r2_score = 0.529831\nestimators = 46 : r2_score = 0.530488\nestimators = 47 : r2_score = 0.532058\nestimators = 48 : r2_score = 0.534240\nestimators = 49 : r2_score = 0.534485\nestimators = 50 : r2_score = 0.535978\n"
                }
            ], 
            "metadata": {}, 
            "source": "#iterate over forest\nimport numpy as np\nfrom sklearn.ensemble import RandomForestRegressor\nfrom sklearn.metrics import r2_score\n\nfor i in range(1,51,1) :    \n    clf = RandomForestRegressor(n_estimators=i,random_state=1)\n    clf.fit(X_train,y_train)\n    predictions = clf.predict(X_test)\n    r2c = r2_score(y_test,predictions)\n    print ('estimators = %i : r2_score = %f' %(i,r2c))\n    \n    \n", 
            "cell_type": "code", 
            "execution_count": 52
        }, 
        {
            "outputs": [], 
            "metadata": {}, 
            "source": "", 
            "cell_type": "code", 
            "execution_count": null
        }
    ], 
    "nbformat": 4
}