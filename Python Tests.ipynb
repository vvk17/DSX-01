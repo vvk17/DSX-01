{
    "nbformat_minor": 1, 
    "cells": [
        {
            "source": "import json\nfrom collections import namedtuple\n\n", 
            "cell_type": "code", 
            "metadata": {}, 
            "outputs": [], 
            "execution_count": 1
        }, 
        {
            "source": "data = '{\"name\": \"John Smith\", \"hometown\": [{\"name\": \"New York\", \"id\": 123},{\"name\": \"Las Vegas\",\"id\": 124}]}'\nprint (data)", 
            "cell_type": "code", 
            "metadata": {}, 
            "outputs": [
                {
                    "output_type": "stream", 
                    "name": "stdout", 
                    "text": "{\"name\": \"John Smith\", \"hometown\": [{\"name\": \"New York\", \"id\": 123},{\"name\": \"Las Vegas\",\"id\": 124}]}\n"
                }
            ], 
            "execution_count": 2
        }, 
        {
            "source": "x = json.loads(data, object_hook=lambda d: namedtuple('X', d.keys())(*d.values()))\nprint (x)\nprint (x.name, x.hometown[0].name, x.hometown[0].id)\n\ndef _json_object_hook(d): return namedtuple('X', d.keys())(*d.values())\ndef json2obj(data): return json.loads(data, object_hook=_json_object_hook)\n\nx = json2obj(data)\nprint (x)", 
            "cell_type": "code", 
            "metadata": {}, 
            "outputs": [
                {
                    "output_type": "stream", 
                    "name": "stdout", 
                    "text": "X(name='John Smith', hometown=[X(id=123, name='New York'), X(id=124, name='Las Vegas')])\nJohn Smith New York 123\nX(name='John Smith', hometown=[X(id=123, name='New York'), X(id=124, name='Las Vegas')])\n"
                }
            ], 
            "execution_count": 3
        }, 
        {
            "source": "xx = json.loads(data)\nid = \"id\"\nprint (xx)\nprint (xx[\"name\"],xx[\"hometown\"])\nprint (xx[\"hometown\"][0][\"name\"])\nprint (xx[\"hometown\"][1][id])", 
            "cell_type": "code", 
            "metadata": {
                "scrolled": true
            }, 
            "outputs": [
                {
                    "output_type": "stream", 
                    "name": "stdout", 
                    "text": "{'name': 'John Smith', 'hometown': [{'id': 123, 'name': 'New York'}, {'id': 124, 'name': 'Las Vegas'}]}\nJohn Smith [{'id': 123, 'name': 'New York'}, {'id': 124, 'name': 'Las Vegas'}]\nNew York\n124\n"
                }
            ], 
            "execution_count": 4
        }, 
        {
            "source": "", 
            "cell_type": "code", 
            "metadata": {}, 
            "outputs": [], 
            "execution_count": null
        }, 
        {
            "source": "import json\n\nclass User:\n    def __init__(self, username, name):\n        self.name = name\n        self.username = username\n\n    def to_json(self):\n        return json.dumps(self.__dict__)\n\n    @classmethod\n    def from_json(cls, json_str):\n        json_dict = json.loads(json_str)\n        return cls(**json_dict)\n\n# example usage\nprint (User(\"tbrown\", \"Tom Brown\").to_json())\na = User.from_json(User(\"tbrown\", \"Tom Brown\").to_json())\nprint (a.name, a.username)\n#b = User.from_json(data)\n#print (b)", 
            "cell_type": "code", 
            "metadata": {}, 
            "outputs": [
                {
                    "output_type": "stream", 
                    "name": "stdout", 
                    "text": "{\"name\": \"Tom Brown\", \"username\": \"tbrown\"}\nTom Brown tbrown\n"
                }
            ], 
            "execution_count": 5
        }, 
        {
            "source": "import json\nimport requests\n\nresponse = requests.get(\"https://jsonplaceholder.typicode.com/todos\")\ntodos = json.loads(response.text)\n#print (todos[:10])\n\ntodos_by_user = {}\n\nfor todo in todos :\n    if todo['completed'] :\n        try :\n            todos_by_user[todo['userId']] += 1\n        except KeyError :\n            todos_by_user[todo['userId']] = 1\nprint (todos_by_user)\nprint (\"=============\")\n\ntop_users = sorted (todos_by_user.items(), key=lambda x: x[1], reverse = True)\nprint (top_users)\nprint (\"=============\")  \n\nmax_complete = top_users[0][1]\nprint (max_complete)\nprint (\"=============\")\n\nusers = []\nmusers = []\nfor user, num_complete in top_users :\n    if num_complete < max_complete :\n        break\n    users.append(user)\n    musers.append(str(user))\nprint (users)\nprint (\"=============\")\n\nmax_users = \" and \".join(musers)\nprint (max_users)\nprint (\"=============\")\n\ndef keep(todo):\n    is_complete = todo[\"completed\"]\n    has_max_count = todo[\"userId\"] in users\n#    print (is_complete, has_max_count)\n#    print (todo[\"userId\"], users)\n    return is_complete and has_max_count\n\nwith open(\"filtered_data_file.json\", \"w\") as data_file:\n    filtered_todos = list(filter(keep, todos))\n    json.dump(filtered_todos, data_file, indent=2)\n    \n!cat filtered_data_file.json", 
            "cell_type": "code", 
            "metadata": {}, 
            "outputs": [
                {
                    "output_type": "stream", 
                    "name": "stdout", 
                    "text": "{1: 11, 2: 8, 3: 7, 4: 6, 5: 12, 6: 6, 7: 9, 8: 11, 9: 8, 10: 12}\n=============\n[(5, 12), (10, 12), (1, 11), (8, 11), (7, 9), (2, 8), (9, 8), (3, 7), (4, 6), (6, 6)]\n=============\n12\n=============\n[5, 10]\n=============\n5 and 10\n=============\n[\r\n  {\r\n    \"id\": 81,\r\n    \"title\": \"suscipit qui totam\",\r\n    \"userId\": 5,\r\n    \"completed\": true\r\n  },\r\n  {\r\n    \"id\": 83,\r\n    \"title\": \"quidem at rerum quis ex aut sit quam\",\r\n    \"userId\": 5,\r\n    \"completed\": true\r\n  },\r\n  {\r\n    \"id\": 85,\r\n    \"title\": \"et quia ad iste a\",\r\n    \"userId\": 5,\r\n    \"completed\": true\r\n  },\r\n  {\r\n    \"id\": 86,\r\n    \"title\": \"incidunt ut saepe autem\",\r\n    \"userId\": 5,\r\n    \"completed\": true\r\n  },\r\n  {\r\n    \"id\": 87,\r\n    \"title\": \"laudantium quae eligendi consequatur quia et vero autem\",\r\n    \"userId\": 5,\r\n    \"completed\": true\r\n  },\r\n  {\r\n    \"id\": 89,\r\n    \"title\": \"sequi ut omnis et\",\r\n    \"userId\": 5,\r\n    \"completed\": true\r\n  },\r\n  {\r\n    \"id\": 90,\r\n    \"title\": \"molestiae nisi accusantium tenetur dolorem et\",\r\n    \"userId\": 5,\r\n    \"completed\": true\r\n  },\r\n  {\r\n    \"id\": 91,\r\n    \"title\": \"nulla quis consequatur saepe qui id expedita\",\r\n    \"userId\": 5,\r\n    \"completed\": true\r\n  },\r\n  {\r\n    \"id\": 92,\r\n    \"title\": \"in omnis laboriosam\",\r\n    \"userId\": 5,\r\n    \"completed\": true\r\n  },\r\n  {\r\n    \"id\": 93,\r\n    \"title\": \"odio iure consequatur molestiae quibusdam necessitatibus quia sint\",\r\n    \"userId\": 5,\r\n    \"completed\": true\r\n  },\r\n  {\r\n    \"id\": 95,\r\n    \"title\": \"vel nihil et molestiae iusto assumenda nemo quo ut\",\r\n    \"userId\": 5,\r\n    \"completed\": true\r\n  },\r\n  {\r\n    \"id\": 98,\r\n    \"title\": \"debitis accusantium ut quo facilis nihil quis sapiente necessitatibus\",\r\n    \"userId\": 5,\r\n    \"completed\": true\r\n  },\r\n  {\r\n    \"id\": 182,\r\n    \"title\": \"inventore saepe cumque et aut illum enim\",\r\n    \"userId\": 10,\r\n    \"completed\": true\r\n  },\r\n  {\r\n    \"id\": 183,\r\n    \"title\": \"omnis nulla eum aliquam distinctio\",\r\n    \"userId\": 10,\r\n    \"completed\": true\r\n  },\r\n  {\r\n    \"id\": 188,\r\n    \"title\": \"vel non beatae est\",\r\n    \"userId\": 10,\r\n    \"completed\": true\r\n  },\r\n  {\r\n    \"id\": 189,\r\n    \"title\": \"culpa eius et voluptatem et\",\r\n    \"userId\": 10,\r\n    \"completed\": true\r\n  },\r\n  {\r\n    \"id\": 190,\r\n    \"title\": \"accusamus sint iusto et voluptatem exercitationem\",\r\n    \"userId\": 10,\r\n    \"completed\": true\r\n  },\r\n  {\r\n    \"id\": 191,\r\n    \"title\": \"temporibus atque distinctio omnis eius impedit tempore molestias pariatur\",\r\n    \"userId\": 10,\r\n    \"completed\": true\r\n  },\r\n  {\r\n    \"id\": 193,\r\n    \"title\": \"rerum debitis voluptatem qui eveniet tempora distinctio a\",\r\n    \"userId\": 10,\r\n    \"completed\": true\r\n  },\r\n  {\r\n    \"id\": 195,\r\n    \"title\": \"rerum ex veniam mollitia voluptatibus pariatur\",\r\n    \"userId\": 10,\r\n    \"completed\": true\r\n  },\r\n  {\r\n    \"id\": 196,\r\n    \"title\": \"consequuntur aut ut fugit similique\",\r\n    \"userId\": 10,\r\n    \"completed\": true\r\n  },\r\n  {\r\n    \"id\": 197,\r\n    \"title\": \"dignissimos quo nobis earum saepe\",\r\n    \"userId\": 10,\r\n    \"completed\": true\r\n  },\r\n  {\r\n    \"id\": 198,\r\n    \"title\": \"quis eius est sint explicabo\",\r\n    \"userId\": 10,\r\n    \"completed\": true\r\n  },\r\n  {\r\n    \"id\": 199,\r\n    \"title\": \"numquam repellendus a magnam\",\r\n    \"userId\": 10,\r\n    \"completed\": true\r\n  }\r\n]"
                }
            ], 
            "execution_count": 6
        }, 
        {
            "source": "import math\n\ndef multiply(x):\n    return (x*x)\ndef add(x):\n    return (x+x)\ndef div2(x):\n    return (x/2)\ndef suppower(x):\n    return (math.pow(x,x))\ndef sqr(x):\n    return (math.sqrt(x))\n\nfuncs = [multiply, add, div2, suppower, sqr]\nfor i in range(17):\n    value = list(map(lambda x: x(i), funcs))\n    print(i, value)", 
            "cell_type": "code", 
            "metadata": {}, 
            "outputs": [
                {
                    "output_type": "stream", 
                    "name": "stdout", 
                    "text": "0 [0, 0, 0.0, 1.0, 0.0]\n1 [1, 2, 0.5, 1.0, 1.0]\n2 [4, 4, 1.0, 4.0, 1.4142135623730951]\n3 [9, 6, 1.5, 27.0, 1.7320508075688772]\n4 [16, 8, 2.0, 256.0, 2.0]\n5 [25, 10, 2.5, 3125.0, 2.23606797749979]\n6 [36, 12, 3.0, 46656.0, 2.449489742783178]\n7 [49, 14, 3.5, 823543.0, 2.6457513110645907]\n8 [64, 16, 4.0, 16777216.0, 2.8284271247461903]\n9 [81, 18, 4.5, 387420489.0, 3.0]\n10 [100, 20, 5.0, 10000000000.0, 3.1622776601683795]\n11 [121, 22, 5.5, 285311670611.0, 3.3166247903554]\n12 [144, 24, 6.0, 8916100448256.0, 3.4641016151377544]\n13 [169, 26, 6.5, 302875106592253.0, 3.605551275463989]\n14 [196, 28, 7.0, 1.1112006825558016e+16, 3.7416573867739413]\n15 [225, 30, 7.5, 4.378938903808594e+17, 3.872983346207417]\n16 [256, 32, 8.0, 1.8446744073709552e+19, 4.0]\n"
                }
            ], 
            "execution_count": 7
        }, 
        {
            "source": "number_list = range(-5, 5)\nless_than_zero = list(filter(lambda x: x >= 0, number_list))\nprint(less_than_zero)\n\nllist = {0:1,-1:2,1:-3}\nltz = filter(lambda x: x >= 0, llist)\nprint(llist)\nprint (ltz)", 
            "cell_type": "code", 
            "metadata": {}, 
            "outputs": [
                {
                    "output_type": "stream", 
                    "name": "stdout", 
                    "text": "[0, 1, 2, 3, 4]\n{0: 1, 1: -3, -1: 2}\n<filter object at 0x7f9a1e2f7400>\n"
                }
            ], 
            "execution_count": 8
        }, 
        {
            "source": "from functools import reduce\nproduct = reduce((lambda x,y : x * y * 2), [1, 2, 3, 4])\nprint (product)", 
            "cell_type": "code", 
            "metadata": {}, 
            "outputs": [
                {
                    "output_type": "stream", 
                    "name": "stdout", 
                    "text": "192\n"
                }
            ], 
            "execution_count": 9
        }, 
        {
            "source": "def test_var_args(f_arg, *argv):\n    print(\"first normal arg:\", f_arg)\n    for arg in argv:\n        print(\"another arg through *argv:\", arg)\n\ntest_var_args('yasoob', 'python', 'eggs', 'test')\n\ndef greet_me(**kwargs):\n    for key, value in kwargs.items():\n        print(\"{0} = {1}\".format(key, value))\n\ngreet_me(name=\"yasoob\",rname=\"lena\",num=2,bll=False)\n\n\ndef test_args_kwargs(arg1, arg2, arg3):\n    print(\"arg1:\", arg1)\n    print(\"arg2:\", arg2)\n    print(\"arg3:\", arg3)\n    \nkwargs = {\"arg3\": 3, \"arg2\": \"two\", \"arg1\": 5}\ntest_args_kwargs(**kwargs)\ntest_args_kwargs(arg3=31, arg2=\"two\", arg1=52)", 
            "cell_type": "code", 
            "metadata": {}, 
            "outputs": [
                {
                    "output_type": "stream", 
                    "name": "stdout", 
                    "text": "first normal arg: yasoob\nanother arg through *argv: python\nanother arg through *argv: eggs\nanother arg through *argv: test\nbll = False\nnum = 2\nname = yasoob\nrname = lena\narg1: 5\narg2: two\narg3: 3\narg1: 52\narg2: two\narg3: 31\n"
                }
            ], 
            "execution_count": 10
        }, 
        {
            "source": "class Cal(object):\n    # pi is a class variable\n    pi = 3.142\n\n    def __init__(self, radius):\n        # self.radius is an instance variable\n        self.radius = radius\n\n    def area(self):\n        return self.pi * (self.radius ** 2)\n\na = Cal(32)\nprint(a.area(), a.pi)\n\na.pi = 43\nprint (a.pi)\n\nb = Cal(44)\nprint (b.area(),b.pi)\n\nb.pi = 50\nprint(b.pi)\n\nprint (dir())", 
            "cell_type": "code", 
            "metadata": {}, 
            "outputs": [
                {
                    "output_type": "stream", 
                    "name": "stdout", 
                    "text": "3217.408 3.142\n43\n6082.912 3.142\n50\n['Cal', 'In', 'Out', 'SQLContext', 'SparkContext', 'SparkSession', 'StorageLevel', 'User', '_', '__', '___', '__builtin__', '__builtins__', '__doc__', '__loader__', '__name__', '__package__', '__spec__', '_dh', '_exit_code', '_i', '_i1', '_i10', '_i11', '_i2', '_i3', '_i4', '_i5', '_i6', '_i7', '_i8', '_i9', '_ih', '_ii', '_iii', '_json_object_hook', '_oh', '_pythonstartup', 'a', 'add', 'atexit', 'b', 'data', 'data_file', 'div2', 'exit', 'filtered_todos', 'funcs', 'get_ipython', 'greet_me', 'i', 'id', 'json', 'json2obj', 'keep', 'kwargs', 'less_than_zero', 'llist', 'ltz', 'math', 'max_complete', 'max_users', 'multiply', 'musers', 'namedtuple', 'num_complete', 'number_list', 'os', 'platform', 'product', 'py4j', 'pyspark', 'quit', 'reduce', 'requests', 'response', 'sc', 'spark', 'sql', 'sqlContext', 'sqlCtx', 'sqr', 'suppower', 'test_args_kwargs', 'test_var_args', 'todo', 'todos', 'todos_by_user', 'top_users', 'user', 'users', 'value', 'x', 'xx']\n"
                }
            ], 
            "execution_count": 11
        }, 
        {
            "source": "", 
            "cell_type": "code", 
            "metadata": {}, 
            "outputs": [], 
            "execution_count": null
        }
    ], 
    "metadata": {
        "kernelspec": {
            "display_name": "Python 3.5 with Spark 2.1", 
            "name": "python3-spark21", 
            "language": "python"
        }, 
        "language_info": {
            "mimetype": "text/x-python", 
            "nbconvert_exporter": "python", 
            "version": "3.5.4", 
            "name": "python", 
            "pygments_lexer": "ipython3", 
            "file_extension": ".py", 
            "codemirror_mode": {
                "version": 3, 
                "name": "ipython"
            }
        }
    }, 
    "nbformat": 4
}