{
    "metadata": {
        "language_info": {
            "file_extension": ".py", 
            "nbconvert_exporter": "python", 
            "mimetype": "text/x-python", 
            "version": "2.7.11", 
            "pygments_lexer": "ipython2", 
            "codemirror_mode": {
                "name": "ipython", 
                "version": 2
            }, 
            "name": "python"
        }, 
        "kernelspec": {
            "name": "python2", 
            "language": "python", 
            "display_name": "Python 2 with Spark 1.6 (Unsupported)"
        }
    }, 
    "nbformat": 4, 
    "nbformat_minor": 1, 
    "cells": [
        {
            "execution_count": 1, 
            "source": "# The code was removed by DSX for sharing.", 
            "metadata": {}, 
            "outputs": [
                {
                    "output_type": "execute_result", 
                    "metadata": {}, 
                    "execution_count": 1, 
                    "data": {
                        "text/plain": "             Survived  Pclass  \\\nPassengerId                     \n1                   0       3   \n2                   1       1   \n3                   1       3   \n4                   1       1   \n5                   0       3   \n\n                                                          Name     Sex  Age  \\\nPassengerId                                                                   \n1                                      Braund, Mr. Owen Harris    male   22   \n2            Cumings, Mrs. John Bradley (Florence Briggs Th...  female   38   \n3                                       Heikkinen, Miss. Laina  female   26   \n4                 Futrelle, Mrs. Jacques Heath (Lily May Peel)  female   35   \n5                                     Allen, Mr. William Henry    male   35   \n\n             SibSp  Parch            Ticket     Fare Cabin Embarked  \nPassengerId                                                          \n1                1      0         A/5 21171   7.2500   NaN        S  \n2                1      0          PC 17599  71.2833   C85        C  \n3                0      0  STON/O2. 3101282   7.9250   NaN        S  \n4                1      0            113803  53.1000  C123        S  \n5                0      0            373450   8.0500   NaN        S  ", 
                        "text/html": "<div>\n<table border=\"1\" class=\"dataframe\">\n  <thead>\n    <tr style=\"text-align: right;\">\n      <th></th>\n      <th>Survived</th>\n      <th>Pclass</th>\n      <th>Name</th>\n      <th>Sex</th>\n      <th>Age</th>\n      <th>SibSp</th>\n      <th>Parch</th>\n      <th>Ticket</th>\n      <th>Fare</th>\n      <th>Cabin</th>\n      <th>Embarked</th>\n    </tr>\n    <tr>\n      <th>PassengerId</th>\n      <th></th>\n      <th></th>\n      <th></th>\n      <th></th>\n      <th></th>\n      <th></th>\n      <th></th>\n      <th></th>\n      <th></th>\n      <th></th>\n      <th></th>\n    </tr>\n  </thead>\n  <tbody>\n    <tr>\n      <th>1</th>\n      <td>0</td>\n      <td>3</td>\n      <td>Braund, Mr. Owen Harris</td>\n      <td>male</td>\n      <td>22</td>\n      <td>1</td>\n      <td>0</td>\n      <td>A/5 21171</td>\n      <td>7.2500</td>\n      <td>NaN</td>\n      <td>S</td>\n    </tr>\n    <tr>\n      <th>2</th>\n      <td>1</td>\n      <td>1</td>\n      <td>Cumings, Mrs. John Bradley (Florence Briggs Th...</td>\n      <td>female</td>\n      <td>38</td>\n      <td>1</td>\n      <td>0</td>\n      <td>PC 17599</td>\n      <td>71.2833</td>\n      <td>C85</td>\n      <td>C</td>\n    </tr>\n    <tr>\n      <th>3</th>\n      <td>1</td>\n      <td>3</td>\n      <td>Heikkinen, Miss. Laina</td>\n      <td>female</td>\n      <td>26</td>\n      <td>0</td>\n      <td>0</td>\n      <td>STON/O2. 3101282</td>\n      <td>7.9250</td>\n      <td>NaN</td>\n      <td>S</td>\n    </tr>\n    <tr>\n      <th>4</th>\n      <td>1</td>\n      <td>1</td>\n      <td>Futrelle, Mrs. Jacques Heath (Lily May Peel)</td>\n      <td>female</td>\n      <td>35</td>\n      <td>1</td>\n      <td>0</td>\n      <td>113803</td>\n      <td>53.1000</td>\n      <td>C123</td>\n      <td>S</td>\n    </tr>\n    <tr>\n      <th>5</th>\n      <td>0</td>\n      <td>3</td>\n      <td>Allen, Mr. William Henry</td>\n      <td>male</td>\n      <td>35</td>\n      <td>0</td>\n      <td>0</td>\n      <td>373450</td>\n      <td>8.0500</td>\n      <td>NaN</td>\n      <td>S</td>\n    </tr>\n  </tbody>\n</table>\n</div>"
                    }
                }
            ], 
            "cell_type": "code"
        }, 
        {
            "execution_count": null, 
            "source": "", 
            "metadata": {
                "collapsed": true
            }, 
            "outputs": [], 
            "cell_type": "code"
        }, 
        {
            "execution_count": 2, 
            "source": "# Some trainings\ndt = df_data_1\n\nimport numpy as np\nfrom sklearn.tree import DecisionTreeClassifier\n\nX = np.array([[1, 2], [3, 4], [5, 6]])\ny = np.array([1, 1, 0,2,2,3,3,3,3,4,4])\nZ = np.array([[9, 2], [13, 4], [15, 6],[3,5],[2,6],[10,3],[11,3],[3,3],[3.5,3.5],[7.5,4],[7.5,3]])\nclf = DecisionTreeClassifier()\nclf.fit(Z,y)\n#print clf.apply(Z)\n#clf.get_params()\n#print clf.decision_path(X)\nprint clf.predict([[2,2]])\n\nfrom sklearn.tree import export_graphviz\nexport_graphviz(clf, feature_names=['x1', 'x2'], \nout_file='small_tree.dot', filled=True)\n# \u0434\u043b\u044f \u044d\u0442\u043e\u0433\u043e \u043f\u043e\u043d\u0430\u0434\u043e\u0431\u0438\u0442\u0441\u044f \u0431\u0438\u0431\u043b\u0438\u043e\u0442\u0435\u043a\u0430 pydot (pip install pydot)\n!dot -Tpng 'small_tree.dot' -o 'small_tree.png'\n\nimport pandas as pd\n%matplotlib inline\nimport seaborn as sns\nfrom matplotlib import pyplot as plt\n\nplt.rcParams['figure.figsize'] = (10,8)\nplt.scatter(Z[:, 0], Z[:, 1], c=y, s=100, \ncmap='autumn', edgecolors='black', linewidth=1.5);\nplt.plot(range(-2,5), range(4,-3,-1));\n\ndef get_grid(data):\n    x_min, x_max = data[:, 0].min() - 1, data[:, 0].max() + 1\n    y_min, y_max = data[:, 1].min() - 1, data[:, 1].max() + 1\n    return np.meshgrid(np.arange(x_min, x_max, 0.01), np.arange(y_min, y_max, 0.01))\n\nxx, yy = get_grid(Z)\npredicted = clf.predict(np.c_[xx.ravel(), yy.ravel()]).reshape(xx.shape)\nplt.pcolormesh(xx, yy, predicted, cmap='autumn')\nplt.scatter(Z[:, 0], Z[:, 1], c=y, s=100, \ncmap='autumn', edgecolors='black', linewidth=1.5);\n", 
            "metadata": {}, 
            "outputs": [
                {
                    "name": "stdout", 
                    "output_type": "stream", 
                    "text": "[3]\n"
                }, 
                {
                    "metadata": {}, 
                    "output_type": "display_data", 
                    "data": {
                        "text/plain": "<matplotlib.figure.Figure at 0x7ff6f9968150>", 
                        "image/png": "[encoded data removed]"
                    }
                }
            ], 
            "cell_type": "code"
        }, 
        {
            "execution_count": 3, 
            "source": "importances = clf.feature_importances_\nimportances", 
            "metadata": {}, 
            "outputs": [
                {
                    "output_type": "execute_result", 
                    "metadata": {}, 
                    "execution_count": 3, 
                    "data": {
                        "text/plain": "array([ 0.75724638,  0.24275362])"
                    }
                }
            ], 
            "cell_type": "code"
        }, 
        {
            "execution_count": 4, 
            "source": "from sklearn.datasets import load_iris\nfrom sklearn import tree\niris = load_iris()\nclf = tree.DecisionTreeClassifier()\nclf = clf.fit(iris.data, iris.target)\nprint clf.predict([[11,11,2,2]])\n", 
            "metadata": {}, 
            "outputs": [
                {
                    "name": "stdout", 
                    "output_type": "stream", 
                    "text": "[0]\n"
                }
            ], 
            "cell_type": "code"
        }, 
        {
            "execution_count": 5, 
            "source": "from sklearn.tree import export_graphviz\nexport_graphviz(clf, feature_names=['x1', 'x2','x3','x4'], \nout_file='small_tree.dot', filled=True)\n# \u0434\u043b\u044f \u044d\u0442\u043e\u0433\u043e \u043f\u043e\u043d\u0430\u0434\u043e\u0431\u0438\u0442\u0441\u044f \u0431\u0438\u0431\u043b\u0438\u043e\u0442\u0435\u043a\u0430 pydot (pip install pydot)\n!dot -Tpng 'small_tree.dot' -o 'small_tree.png'", 
            "metadata": {
                "collapsed": true
            }, 
            "outputs": [], 
            "cell_type": "code"
        }, 
        {
            "execution_count": 6, 
            "source": "# Select few columns and labels vector\n\nrdt = dt [['Survived','Pclass','Fare','Age','Sex']]\n#lbl = dt [['Survived']]\ndrop_labels = []\n\n# Dropping lines with Age == NaN \nnum_pass = rdt.shape[0]\ni=1\nwhile i <= num_pass :\n    if np.isnan(rdt.Age[i]) :\n        drop_labels.append(i)\n#        print i, rdt.Age[i]\n    i += 1\nprint \"Lines dropped: \", len(drop_labels) \n\nrdt = rdt.drop(drop_labels)\nrrdt = rdt[['Pclass','Fare','Age','Sex']]\nrrdt = rrdt.replace([\"female\",\"male\"],[float(0),float(1)])\nslbl = rdt [['Survived']]\n\nclf = DecisionTreeClassifier(random_state=241)\nclf.fit(rrdt,slbl)\n\n\n\nimportances = clf.feature_importances_\nimportances\n\n", 
            "metadata": {}, 
            "outputs": [
                {
                    "name": "stdout", 
                    "output_type": "stream", 
                    "text": "Lines dropped:  177\n"
                }, 
                {
                    "output_type": "execute_result", 
                    "metadata": {}, 
                    "execution_count": 6, 
                    "data": {
                        "text/plain": "array([ 0.14000522,  0.30343647,  0.2560461 ,  0.30051221])"
                    }
                }
            ], 
            "cell_type": "code"
        }, 
        {
            "execution_count": 7, 
            "source": "export_graphviz(clf, feature_names=['Pclass', 'Fare','Age','Sex'], \nout_file='tit_tree.dot', filled=True)\n# \u0434\u043b\u044f \u044d\u0442\u043e\u0433\u043e \u043f\u043e\u043d\u0430\u0434\u043e\u0431\u0438\u0442\u0441\u044f \u0431\u0438\u0431\u043b\u0438\u043e\u0442\u0435\u043a\u0430 pydot (pip install pydot)\n!dot -Tpng 'tit_tree.dot' -o 'tit_tree.png'", 
            "metadata": {
                "collapsed": true
            }, 
            "outputs": [], 
            "cell_type": "code"
        }, 
        {
            "execution_count": 8, 
            "source": "if clf.predict([[2.0,38.5,18.0,0.0]]) == 1 :\n    print \"Survived\"\nelse:\n    print \"Not survived\"", 
            "metadata": {}, 
            "outputs": [
                {
                    "name": "stdout", 
                    "output_type": "stream", 
                    "text": "Survived\n"
                }
            ], 
            "cell_type": "code"
        }, 
        {
            "execution_count": null, 
            "source": "", 
            "metadata": {
                "collapsed": true
            }, 
            "outputs": [], 
            "cell_type": "code"
        }
    ]
}